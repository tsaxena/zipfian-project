{
 "metadata": {
  "name": "",
  "signature": "sha256:a0b76e42e8050f63261744adb4900a384fca4eb6dfc78bf5baeafc2f53caf5e8"
 },
 "nbformat": 3,
 "nbformat_minor": 0,
 "worksheets": []
}