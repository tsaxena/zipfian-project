{
 "metadata": {
  "name": "",
  "signature": "sha256:c2143434db5042b44c71985b6b59f366cc04eff9ec6179731ffc98d3442879de"
 },
 "nbformat": 3,
 "nbformat_minor": 0,
 "worksheets": [
  {
   "cells": [
    {
     "cell_type": "code",
     "collapsed": false,
     "input": [
      "import pandas as pd\n",
      "import numpy as np"
     ],
     "language": "python",
     "metadata": {},
     "outputs": [],
     "prompt_number": 1
    },
    {
     "cell_type": "code",
     "collapsed": false,
     "input": [
      "df = pd.read_csv('fb_business_page_likes.csv', escapechar='\\\\')\n",
      "df.head()"
     ],
     "language": "python",
     "metadata": {},
     "outputs": [
      {
       "html": [
        "<div style=\"max-height:1000px;max-width:1500px;overflow:auto;\">\n",
        "<table border=\"1\" class=\"dataframe\">\n",
        "  <thead>\n",
        "    <tr style=\"text-align: right;\">\n",
        "      <th></th>\n",
        "      <th>objectid</th>\n",
        "      <th>idinfo</th>\n",
        "      <th>likee_page_id</th>\n",
        "      <th>pagename</th>\n",
        "      <th>pagecategory</th>\n",
        "      <th>liker_page_id</th>\n",
        "    </tr>\n",
        "  </thead>\n",
        "  <tbody>\n",
        "    <tr>\n",
        "      <th>0</th>\n",
        "      <td> ObjectID(539606e335611a69fa3dcadb)</td>\n",
        "      <td> 1</td>\n",
        "      <td> 490066844405965</td>\n",
        "      <td> Sawmill Creek Vineyards</td>\n",
        "      <td>   Farming/agriculture</td>\n",
        "      <td> 195149384639</td>\n",
        "    </tr>\n",
        "    <tr>\n",
        "      <th>1</th>\n",
        "      <td> ObjectID(539606e335611a69fa3dcadb)</td>\n",
        "      <td> 2</td>\n",
        "      <td>    105538206542</td>\n",
        "      <td>              Wine Folly</td>\n",
        "      <td> Media/news/publishing</td>\n",
        "      <td> 195149384639</td>\n",
        "    </tr>\n",
        "    <tr>\n",
        "      <th>2</th>\n",
        "      <td> ObjectID(539606e335611a69fa3dcadb)</td>\n",
        "      <td> 3</td>\n",
        "      <td>    226039893761</td>\n",
        "      <td>    Alcyone Dessert Wine</td>\n",
        "      <td>          Wine/spirits</td>\n",
        "      <td> 195149384639</td>\n",
        "    </tr>\n",
        "    <tr>\n",
        "      <th>3</th>\n",
        "      <td> ObjectID(539606e335611a69fa3dcadb)</td>\n",
        "      <td> 4</td>\n",
        "      <td> 183467008341759</td>\n",
        "      <td>       Fox Run Vineyards</td>\n",
        "      <td>        Local business</td>\n",
        "      <td> 195149384639</td>\n",
        "    </tr>\n",
        "    <tr>\n",
        "      <th>4</th>\n",
        "      <td> ObjectID(539606e335611a69fa3dcadb)</td>\n",
        "      <td> 5</td>\n",
        "      <td> 200058246699288</td>\n",
        "      <td>    Shalestone Vineyards</td>\n",
        "      <td>        Local business</td>\n",
        "      <td> 195149384639</td>\n",
        "    </tr>\n",
        "  </tbody>\n",
        "</table>\n",
        "<p>5 rows \u00d7 6 columns</p>\n",
        "</div>"
       ],
       "metadata": {},
       "output_type": "pyout",
       "prompt_number": 7,
       "text": [
        "                             objectid  idinfo    likee_page_id  \\\n",
        "0  ObjectID(539606e335611a69fa3dcadb)       1  490066844405965   \n",
        "1  ObjectID(539606e335611a69fa3dcadb)       2     105538206542   \n",
        "2  ObjectID(539606e335611a69fa3dcadb)       3     226039893761   \n",
        "3  ObjectID(539606e335611a69fa3dcadb)       4  183467008341759   \n",
        "4  ObjectID(539606e335611a69fa3dcadb)       5  200058246699288   \n",
        "\n",
        "                  pagename           pagecategory  liker_page_id  \n",
        "0  Sawmill Creek Vineyards    Farming/agriculture   195149384639  \n",
        "1               Wine Folly  Media/news/publishing   195149384639  \n",
        "2     Alcyone Dessert Wine           Wine/spirits   195149384639  \n",
        "3        Fox Run Vineyards         Local business   195149384639  \n",
        "4     Shalestone Vineyards         Local business   195149384639  \n",
        "\n",
        "[5 rows x 6 columns]"
       ]
      }
     ],
     "prompt_number": 7
    },
    {
     "cell_type": "code",
     "collapsed": false,
     "input": [
      "#csv_for_gephi = df['likee']\n",
      "df.dtypes\n",
      "\n",
      "#csv_edge_graph\n",
      "EDF = df[['likee_page_id', 'liker_page_id']]"
     ],
     "language": "python",
     "metadata": {},
     "outputs": [],
     "prompt_number": 10
    },
    {
     "cell_type": "code",
     "collapsed": false,
     "input": [
      "EDF.columns"
     ],
     "language": "python",
     "metadata": {},
     "outputs": [
      {
       "metadata": {},
       "output_type": "pyout",
       "prompt_number": 11,
       "text": [
        "Index([u'likee_page_id', u'liker_page_id'], dtype='object')"
       ]
      }
     ],
     "prompt_number": 11
    },
    {
     "cell_type": "code",
     "collapsed": false,
     "input": [
      "EDF.columns = ['Source', 'Target']"
     ],
     "language": "python",
     "metadata": {},
     "outputs": [],
     "prompt_number": 12
    },
    {
     "cell_type": "code",
     "collapsed": false,
     "input": [
      "EDF.head()\n",
      "EDF.shape"
     ],
     "language": "python",
     "metadata": {},
     "outputs": [
      {
       "metadata": {},
       "output_type": "pyout",
       "prompt_number": 15,
       "text": [
        "(659106, 2)"
       ]
      }
     ],
     "prompt_number": 15
    },
    {
     "cell_type": "code",
     "collapsed": false,
     "input": [
      "EDF.head()"
     ],
     "language": "python",
     "metadata": {},
     "outputs": [
      {
       "html": [
        "<div style=\"max-height:1000px;max-width:1500px;overflow:auto;\">\n",
        "<table border=\"1\" class=\"dataframe\">\n",
        "  <thead>\n",
        "    <tr style=\"text-align: right;\">\n",
        "      <th></th>\n",
        "      <th>Source</th>\n",
        "      <th>Target</th>\n",
        "    </tr>\n",
        "  </thead>\n",
        "  <tbody>\n",
        "    <tr>\n",
        "      <th>0</th>\n",
        "      <td> 490066844405965</td>\n",
        "      <td> 195149384639</td>\n",
        "    </tr>\n",
        "    <tr>\n",
        "      <th>1</th>\n",
        "      <td>    105538206542</td>\n",
        "      <td> 195149384639</td>\n",
        "    </tr>\n",
        "    <tr>\n",
        "      <th>2</th>\n",
        "      <td>    226039893761</td>\n",
        "      <td> 195149384639</td>\n",
        "    </tr>\n",
        "    <tr>\n",
        "      <th>3</th>\n",
        "      <td> 183467008341759</td>\n",
        "      <td> 195149384639</td>\n",
        "    </tr>\n",
        "    <tr>\n",
        "      <th>4</th>\n",
        "      <td> 200058246699288</td>\n",
        "      <td> 195149384639</td>\n",
        "    </tr>\n",
        "  </tbody>\n",
        "</table>\n",
        "<p>5 rows \u00d7 2 columns</p>\n",
        "</div>"
       ],
       "metadata": {},
       "output_type": "pyout",
       "prompt_number": 16,
       "text": [
        "            Source        Target\n",
        "0  490066844405965  195149384639\n",
        "1     105538206542  195149384639\n",
        "2     226039893761  195149384639\n",
        "3  183467008341759  195149384639\n",
        "4  200058246699288  195149384639\n",
        "\n",
        "[5 rows x 2 columns]"
       ]
      }
     ],
     "prompt_number": 16
    },
    {
     "cell_type": "code",
     "collapsed": false,
     "input": [
      "EDF.to_csv('like_edge.csv', index=False)"
     ],
     "language": "python",
     "metadata": {},
     "outputs": [],
     "prompt_number": 18
    },
    {
     "cell_type": "code",
     "collapsed": false,
     "input": [
      "EDF.shape\n",
      "\n",
      "#take only a subset of the records\n",
      "indices = np.arange(1,100000)\n",
      "EDF.shape\n",
      "EDFSS = EDF.ix[indices, :]\n",
      "EDFSS.to_csv('like_edges.csv', index=False)"
     ],
     "language": "python",
     "metadata": {},
     "outputs": [],
     "prompt_number": 30
    },
    {
     "cell_type": "code",
     "collapsed": false,
     "input": [
      "Nodes = pd.read_csv('FBL2[Nodes].csv')"
     ],
     "language": "python",
     "metadata": {},
     "outputs": [],
     "prompt_number": 31
    },
    {
     "cell_type": "code",
     "collapsed": false,
     "input": [
      "Nodes.head()"
     ],
     "language": "python",
     "metadata": {},
     "outputs": [
      {
       "html": [
        "<div style=\"max-height:1000px;max-width:1500px;overflow:auto;\">\n",
        "<table border=\"1\" class=\"dataframe\">\n",
        "  <thead>\n",
        "    <tr style=\"text-align: right;\">\n",
        "      <th></th>\n",
        "      <th>Id</th>\n",
        "      <th>Label</th>\n",
        "      <th>Modularity Class</th>\n",
        "    </tr>\n",
        "  </thead>\n",
        "  <tbody>\n",
        "    <tr>\n",
        "      <th>0</th>\n",
        "      <td>    226039893761</td>\n",
        "      <td>NaN</td>\n",
        "      <td> 183</td>\n",
        "    </tr>\n",
        "    <tr>\n",
        "      <th>1</th>\n",
        "      <td> 200058246699288</td>\n",
        "      <td>NaN</td>\n",
        "      <td> 183</td>\n",
        "    </tr>\n",
        "    <tr>\n",
        "      <th>2</th>\n",
        "      <td>     19816058884</td>\n",
        "      <td>NaN</td>\n",
        "      <td> 183</td>\n",
        "    </tr>\n",
        "    <tr>\n",
        "      <th>3</th>\n",
        "      <td> 157022231008959</td>\n",
        "      <td>NaN</td>\n",
        "      <td> 183</td>\n",
        "    </tr>\n",
        "    <tr>\n",
        "      <th>4</th>\n",
        "      <td> 183579145102690</td>\n",
        "      <td>NaN</td>\n",
        "      <td> 183</td>\n",
        "    </tr>\n",
        "  </tbody>\n",
        "</table>\n",
        "<p>5 rows \u00d7 3 columns</p>\n",
        "</div>"
       ],
       "metadata": {},
       "output_type": "pyout",
       "prompt_number": 32,
       "text": [
        "                Id  Label  Modularity Class\n",
        "0     226039893761    NaN               183\n",
        "1  200058246699288    NaN               183\n",
        "2      19816058884    NaN               183\n",
        "3  157022231008959    NaN               183\n",
        "4  183579145102690    NaN               183\n",
        "\n",
        "[5 rows x 3 columns]"
       ]
      }
     ],
     "prompt_number": 32
    },
    {
     "cell_type": "code",
     "collapsed": false,
     "input": [],
     "language": "python",
     "metadata": {},
     "outputs": []
    }
   ],
   "metadata": {}
  }
 ]
}